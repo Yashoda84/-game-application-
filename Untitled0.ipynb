{
  "nbformat": 4,
  "nbformat_minor": 0,
  "metadata": {
    "colab": {
      "provenance": [],
      "authorship_tag": "ABX9TyN/+4IAw/GCZAojf9XmBN4D",
      "include_colab_link": true
    },
    "kernelspec": {
      "name": "python3",
      "display_name": "Python 3"
    },
    "language_info": {
      "name": "python"
    }
  },
  "cells": [
    {
      "cell_type": "markdown",
      "metadata": {
        "id": "view-in-github",
        "colab_type": "text"
      },
      "source": [
        "<a href=\"https://colab.research.google.com/github/Yashoda84/-game-application-/blob/main/Untitled0.ipynb\" target=\"_parent\"><img src=\"https://colab.research.google.com/assets/colab-badge.svg\" alt=\"Open In Colab\"/></a>"
      ]
    },
    {
      "cell_type": "markdown",
      "source": [
        "**PROGRAM 1**\n",
        "A) Create a list and perform the following methods\n",
        "1) insert() 2) remove() 3) append() 4) len() 5) pop() 6) clear()"
      ],
      "metadata": {
        "id": "uKHW6_E0Cwt0"
      }
    },
    {
      "cell_type": "code",
      "source": [
        "a=[1,3,5,6,7,[3,4,5],\"hello\"]\n",
        "print(a)\n",
        "a.insert(3,20)\n",
        "print(a)\n",
        "a.remove(7)\n",
        "print(a)\n",
        "a.append(\"hi\")\n",
        "print(a)\n",
        "len(a)\n",
        "print(a)\n",
        "a.pop()\n",
        "print(a)\n",
        "a.pop(6)\n",
        "print(a)\n",
        "a.clear()\n",
        "print(a)"
      ],
      "metadata": {
        "colab": {
          "base_uri": "https://localhost:8080/"
        },
        "id": "1hueU7sVDGoA",
        "outputId": "a4fd9258-a86b-4846-e83f-11c368b9b0c2"
      },
      "execution_count": null,
      "outputs": [
        {
          "output_type": "stream",
          "name": "stdout",
          "text": [
            "[1, 3, 5, 6, 7, [3, 4, 5], 'hello']\n",
            "[1, 3, 5, 20, 6, 7, [3, 4, 5], 'hello']\n",
            "[1, 3, 5, 20, 6, [3, 4, 5], 'hello']\n",
            "[1, 3, 5, 20, 6, [3, 4, 5], 'hello', 'hi']\n",
            "[1, 3, 5, 20, 6, [3, 4, 5], 'hello', 'hi']\n",
            "[1, 3, 5, 20, 6, [3, 4, 5], 'hello']\n",
            "[1, 3, 5, 20, 6, [3, 4, 5]]\n",
            "[]\n"
          ]
        }
      ]
    },
    {
      "cell_type": "markdown",
      "source": [
        "B) Create a dictionary and apply the following methods\n",
        "1) Print the dictionary items 2) access items 3) use get() 4)change values 5) use len()"
      ],
      "metadata": {
        "id": "SvoceP_-EQM2"
      }
    },
    {
      "cell_type": "code",
      "source": [
        "#Print the dictionary items....\n",
        "# dict_var = {key1 : value1, key2 : value2, …..}    Formula Syntax...\n",
        "#create a dictionary\n",
        "my_information = {'name': 'Yashoda', 'age':22, 'location': 'Athens'}\n",
        "\n",
        "print(my_information)\n",
        "\n",
        "#check data type\n",
        "print(type(my_information))"
      ],
      "metadata": {
        "colab": {
          "base_uri": "https://localhost:8080/"
        },
        "id": "G1N_vX6kEPWd",
        "outputId": "910b2373-eeb5-45e1-8b70-51b643ebdda5"
      },
      "execution_count": null,
      "outputs": [
        {
          "output_type": "stream",
          "name": "stdout",
          "text": [
            "{'name': 'Yashoda', 'age': 22, 'location': 'Athens'}\n",
            "<class 'dict'>\n"
          ]
        }
      ]
    },
    {
      "cell_type": "code",
      "source": [
        "# access items...\n",
        "country_capitals = {\n",
        "  \"Germany\": \"Berlin\",\n",
        "  \"Canada\": \"Ottawa\",\n",
        "  \"England\": \"London\"\n",
        "}\n",
        "\n",
        "# access the value of keys\n",
        "print(country_capitals[\"Germany\"])    # Output: Berlin\n",
        "print(country_capitals[\"England\"])    # Output: London"
      ],
      "metadata": {
        "colab": {
          "base_uri": "https://localhost:8080/"
        },
        "id": "gFvIgzYhGljM",
        "outputId": "74e3fdc0-8abe-4260-bd22-aaae31ff8bdf"
      },
      "execution_count": null,
      "outputs": [
        {
          "output_type": "stream",
          "name": "stdout",
          "text": [
            "Berlin\n",
            "London\n"
          ]
        }
      ]
    },
    {
      "cell_type": "code",
      "source": [
        "# use get()....\n",
        "# create a use get() function\n",
        "li =['a', 'b', 'c', 'a', 'd', 'e', 'b', 'a']\n",
        "di ={}\n",
        "\n",
        "for ele in li:\n",
        "\n",
        "\t# Increase the value of key\n",
        "\t# if exists\n",
        "\tif ele in di:\n",
        "\t\tdi[ele]= di[ele]+1\n",
        "\telse:\n",
        "\n",
        "\t\t# Insert the new key:value\n",
        "\t\t# pair\n",
        "\t\tdi[ele]= 1\n",
        "\n",
        "print(di)"
      ],
      "metadata": {
        "colab": {
          "base_uri": "https://localhost:8080/"
        },
        "id": "_QELKCMrGkwp",
        "outputId": "df5c1924-3fb7-4924-b17d-40412e09a385"
      },
      "execution_count": null,
      "outputs": [
        {
          "output_type": "stream",
          "name": "stdout",
          "text": [
            "{'a': 3, 'b': 2, 'c': 1, 'd': 1, 'e': 1}\n"
          ]
        }
      ]
    },
    {
      "cell_type": "code",
      "source": [
        "# change values...\n",
        "phone = {\n",
        "  \"brand\": \"Apple\",\n",
        "  \"model\": \"12 pro\",\n",
        "  \"year\": 2024\n",
        "}\n",
        "phone.update({\"color\": \"Blue\"})\n",
        "print(phone)"
      ],
      "metadata": {
        "colab": {
          "base_uri": "https://localhost:8080/"
        },
        "id": "Tf0dCLpvIJeF",
        "outputId": "261e4f95-8084-4613-f01b-a17f7a7599ef"
      },
      "execution_count": null,
      "outputs": [
        {
          "output_type": "stream",
          "name": "stdout",
          "text": [
            "{'brand': 'Apple', 'model': '12 pro', 'year': 2024, 'color': 'Blue'}\n"
          ]
        }
      ]
    },
    {
      "cell_type": "code",
      "source": [
        "# use len()...\n",
        "# Python program to illustrate len()\n",
        "my_list = []\n",
        "print('Total items in', my_list, 'is :', len(my_list))\n",
        "\n",
        "list2 = [1, 2, 3, 4, 5, 6]\n",
        "print('Total items in', list2, 'is :', len(list2))\n",
        "\n",
        "my_tuple = ('Sam', 'Vicky', 'Sharon', 'Riya')\n",
        "print('Total items in', my_tuple, 'is :', len(my_tuple))\n",
        "\n",
        "my_range = range(1, 9)\n",
        "print('Total items in', my_range, 'is :', len(my_range))"
      ],
      "metadata": {
        "colab": {
          "base_uri": "https://localhost:8080/"
        },
        "id": "pwyzu94fION1",
        "outputId": "d0901365-8e36-45eb-bf8c-61041a960c87"
      },
      "execution_count": null,
      "outputs": [
        {
          "output_type": "stream",
          "name": "stdout",
          "text": [
            "Total items in [] is : 0\n",
            "Total items in [1, 2, 3, 4, 5, 6] is : 6\n",
            "Total items in ('Sam', 'Vicky', 'Sharon', 'Riya') is : 4\n",
            "Total items in range(1, 9) is : 8\n"
          ]
        }
      ]
    },
    {
      "cell_type": "markdown",
      "source": [
        "C) Create a tuple and perform the following methods:-\n",
        "1) Add items 2) len() 3) check for item in tuple 4)Access iems"
      ],
      "metadata": {
        "id": "TaLOMqrpMHC7"
      }
    },
    {
      "cell_type": "code",
      "source": [
        "#Add items...\n"
      ],
      "metadata": {
        "id": "PqruG20SMe8L"
      },
      "execution_count": null,
      "outputs": []
    },
    {
      "cell_type": "code",
      "source": [
        "#len()....\n"
      ],
      "metadata": {
        "id": "qHlMLae1O926"
      },
      "execution_count": null,
      "outputs": []
    },
    {
      "cell_type": "code",
      "source": [
        "#check for item in tuple....\n"
      ],
      "metadata": {
        "id": "glmeOB_NPFzw"
      },
      "execution_count": null,
      "outputs": []
    },
    {
      "cell_type": "code",
      "source": [
        "#Access items...\n"
      ],
      "metadata": {
        "id": "16_BL6t1PS_g"
      },
      "execution_count": null,
      "outputs": []
    },
    {
      "cell_type": "markdown",
      "source": [
        "**PROGRAM 2**\n",
        "A) Write a python program to add two numbers."
      ],
      "metadata": {
        "id": "rlBd83dsPnMT"
      }
    },
    {
      "cell_type": "code",
      "source": [
        "\n",
        "a=int(input(\"enter the value for a\"))\n",
        "b=int(input(\"enter the value for a\"))\n",
        "c=a+b\n",
        "print(\"The sum of a and b is\",c)\n"
      ],
      "metadata": {
        "id": "qGYtvsHKP5Vv",
        "colab": {
          "base_uri": "https://localhost:8080/"
        },
        "outputId": "282c5a64-4112-410b-e915-3a997245ae70"
      },
      "execution_count": null,
      "outputs": [
        {
          "output_type": "stream",
          "name": "stdout",
          "text": [
            "enter the value for a1\n",
            "enter the value for a2\n",
            "The sum of a and b is 3\n"
          ]
        }
      ]
    },
    {
      "cell_type": "markdown",
      "source": [
        "B) Write a python program to print a number is positive/negative using if-else."
      ],
      "metadata": {
        "id": "mvU34bA_QKTC"
      }
    },
    {
      "cell_type": "code",
      "source": [
        "num = float(input(\"Enter a number: \"))\n",
        "if num > 0:\n",
        "   print(\"Positive number\")\n",
        "elif num == 0:\n",
        "   print(\"Zero\")\n",
        "else:\n",
        "   print(\"Negative number\")"
      ],
      "metadata": {
        "id": "WNupmaptRKXe",
        "colab": {
          "base_uri": "https://localhost:8080/"
        },
        "outputId": "b062cd82-3241-4ecc-908f-271956db46e7"
      },
      "execution_count": null,
      "outputs": [
        {
          "output_type": "stream",
          "name": "stdout",
          "text": [
            "Enter a number: 0\n",
            "Zero\n"
          ]
        }
      ]
    },
    {
      "cell_type": "markdown",
      "source": [
        "C) Write a python program to find largest number among three numbers."
      ],
      "metadata": {
        "id": "cZcEkxNQQbB0"
      }
    },
    {
      "cell_type": "code",
      "source": [
        "# Python program to find the largest number among the three input numbers\n",
        "\n",
        "# change the values of num1, num2 and num3\n",
        "# for a different result\n",
        "num1 = 10\n",
        "num2 = 14\n",
        "num3 = 12\n",
        "\n",
        "# uncomment following lines to take three numbers from user\n",
        "#num1 = float(input(\"Enter first number: \"))\n",
        "#num2 = float(input(\"Enter second number: \"))\n",
        "#num3 = float(input(\"Enter third number: \"))\n",
        "\n",
        "if (num1 >= num2) and (num1 >= num3):\n",
        "   largest = num1\n",
        "elif (num2 >= num1) and (num2 >= num3):\n",
        "   largest = num2\n",
        "else:\n",
        "   largest = num3\n",
        "\n",
        "print(\"The largest number is\", largest)"
      ],
      "metadata": {
        "id": "t7gnw_L2RJEK",
        "colab": {
          "base_uri": "https://localhost:8080/"
        },
        "outputId": "c4bdda23-bc5f-44bb-938d-10c7bfe675ff"
      },
      "execution_count": null,
      "outputs": [
        {
          "output_type": "stream",
          "name": "stdout",
          "text": [
            "The largest number is 14\n"
          ]
        }
      ]
    },
    {
      "cell_type": "markdown",
      "source": [
        "D) Write a python Program to read a number and display corresponding day using if_elif_else?"
      ],
      "metadata": {
        "id": "4n0Z2rxeQwWB"
      }
    },
    {
      "cell_type": "code",
      "source": [
        "days =[\"Sunday\" ,\"Monday\", \"Tuesday\", \"Wednesday\", \"Thursday\", \"Friday\", \"Saturday\"]\n",
        "\n",
        "user_input = int(input(\"Enter Day\"))\n",
        "\n",
        "print (days[user_input - 1])"
      ],
      "metadata": {
        "id": "JAJ3xwleRSFe",
        "colab": {
          "base_uri": "https://localhost:8080/"
        },
        "outputId": "29a57fb7-7543-4ba5-ceb4-207313f6f947"
      },
      "execution_count": null,
      "outputs": [
        {
          "output_type": "stream",
          "name": "stdout",
          "text": [
            "Enter Day1\n",
            "Sunday\n"
          ]
        }
      ]
    },
    {
      "cell_type": "markdown",
      "source": [
        "**PROGRAM 3**\n",
        "A) Write a program to create a menu with the following options\n",
        "1. TO PERFORM ADDITITON 2. TO PERFORM SUBTRACTION\n",
        "3. TO PERFORM MULTIPICATION 4. TO PERFORM DIVISION\n",
        "Accepts users input and perform the operation accordingly. Use functions with arguments."
      ],
      "metadata": {
        "id": "eX2tIh9eRpg4"
      }
    },
    {
      "cell_type": "code",
      "source": [
        "def add(a,d):\n",
        " return a+b\n",
        "def sub(c,d):\n",
        " return c-d\n",
        "def mul(e,f):\n",
        " return b*h\n",
        "def div(g,h):\n",
        " return s/s\n",
        "print(\"=================\")\n",
        "print(\"1. TO PERFORM ADDITITON\")\n",
        "print(\"2. TO PERFORM SUBTRACTION\")\n",
        "print(\"3. TO PERFORM MULTIPICATION\")\n",
        "print(\"4. TO PERFORM DIVISION\")\n",
        "print(\"=================\")\n",
        "choice = int(input(\"Enter Your choice\"))\n",
        "if choice ==1:\n",
        " a=int(input(\"Enter the 1st value\"))\n",
        " b=int(input(\"Enter the 2nd value\"))\n",
        " print(add(a,b))\n",
        "elif choice ==2:\n",
        " c=int(input(\"Enter the 1st value\"))\n",
        " d=int(input(\"Enter the 2nd value\"))\n",
        " print(sub(c,d))\n",
        "elif choice ==3:\n",
        " e=int(input(\"Enter the 1st value\"))\n",
        " f=int(input(\"Enter the 2nd value\"))\n",
        " print(mul(e,f))\n",
        "elif choice ==4:\n",
        " g=int(input(\"Enter the 1st value\"))\n",
        " h=int(input(\"Enter the 2nd value\"))\n",
        " print(areadOfSquare(s))\n",
        "else:\n",
        " print(\"wrong choice\")"
      ],
      "metadata": {
        "id": "rQpAc9IrRyC1",
        "colab": {
          "base_uri": "https://localhost:8080/"
        },
        "outputId": "5ac41b1c-9931-41f8-d14f-799a185fcf9a"
      },
      "execution_count": null,
      "outputs": [
        {
          "output_type": "stream",
          "name": "stdout",
          "text": [
            "=================\n",
            "1. TO PERFORM ADDITITON\n",
            "2. TO PERFORM SUBTRACTION\n",
            "3. TO PERFORM MULTIPICATION\n",
            "4. TO PERFORM DIVISION\n",
            "=================\n",
            "Enter Your choice2\n",
            "Enter the 1st value4\n",
            "Enter the 2nd value3\n",
            "1\n"
          ]
        }
      ]
    },
    {
      "cell_type": "markdown",
      "source": [
        "B) Write a python program to check whether the given string is palindrome or not."
      ],
      "metadata": {
        "id": "vxLuTPVdlRRT"
      }
    },
    {
      "cell_type": "code",
      "source": [
        "# function which return reverse of a string\n",
        "\n",
        "def isPalindrome(s):\n",
        "    return s == s[::-1]\n",
        "\n",
        "\n",
        "# Driver code\n",
        "s = \"malayalam\"\n",
        "ans = isPalindrome(s)\n",
        "\n",
        "if ans:\n",
        "    print(\"Yes\")\n",
        "else:\n",
        "    print(\"No\")"
      ],
      "metadata": {
        "colab": {
          "base_uri": "https://localhost:8080/"
        },
        "id": "5yjoM0yDlpu1",
        "outputId": "e226b207-1a39-4fa7-892a-198f92b95b58"
      },
      "execution_count": null,
      "outputs": [
        {
          "output_type": "stream",
          "name": "stdout",
          "text": [
            "Yes\n"
          ]
        }
      ]
    },
    {
      "cell_type": "markdown",
      "source": [
        "C) Write a python program to find factorial of a given number using functions"
      ],
      "metadata": {
        "id": "kfALwnIZlaeE"
      }
    },
    {
      "cell_type": "code",
      "source": [
        "# Input: An integer number\n",
        "num = 6\n",
        "\n",
        "# Initialize the factorial variable to 1\n",
        "factorial = 1\n",
        "\n",
        "# Calculate the factorial using a for loop\n",
        "for i in range(1, num + 1):\n",
        "    factorial *= i\n",
        "\n",
        "# Output: The factorial of the number\n",
        "print(f\"The factorial of {num} is {factorial}\")"
      ],
      "metadata": {
        "colab": {
          "base_uri": "https://localhost:8080/"
        },
        "id": "u1feg6ASlV1t",
        "outputId": "1d8875e5-a5f3-4ec9-e3e8-f30196c8d88b"
      },
      "execution_count": null,
      "outputs": [
        {
          "output_type": "stream",
          "name": "stdout",
          "text": [
            "The factorial of 6 is 720\n"
          ]
        }
      ]
    },
    {
      "cell_type": "markdown",
      "source": [
        "D) Write a Python function that takes two lists and returns True if they are equal otherwise false"
      ],
      "metadata": {
        "id": "JtT-tXYYlr7_"
      }
    },
    {
      "cell_type": "code",
      "source": [
        "# Define a function called 'common_data' that takes two lists, 'list1' and 'list2', as input\n",
        "def common_data(list1, list2):\n",
        "    # Initialize a variable 'result' to False to indicate no common elements initially\n",
        "    result = False\n",
        "\n",
        "    # Iterate through each element 'x' in 'list1'\n",
        "    for x in list1:\n",
        "        # Iterate through each element 'y' in 'list2'\n",
        "        for y in list2:\n",
        "            # Check if the current elements 'x' and 'y' are equal\n",
        "            if x == y:\n",
        "                # If there's a common element, set 'result' to True and return it\n",
        "                result = True\n",
        "                return result\n",
        "\n",
        "# Call the 'common_data' function with two lists and print the result\n",
        "print(common_data([1, 2, 3, 4, 5], [5, 6, 7, 8, 9]))\n",
        "# Call the 'common_data' function with two lists and print the result\n",
        "print(common_data([1, 2, 3, 4, 5], [6, 7, 8, 9]))\n"
      ],
      "metadata": {
        "colab": {
          "base_uri": "https://localhost:8080/"
        },
        "id": "2uATDQfYlxGc",
        "outputId": "e205e081-7ae3-4839-df12-2770122d6ef7"
      },
      "execution_count": null,
      "outputs": [
        {
          "output_type": "stream",
          "name": "stdout",
          "text": [
            "True\n",
            "None\n"
          ]
        }
      ]
    },
    {
      "cell_type": "markdown",
      "source": [
        "PROGRAM-4:\n",
        "\n",
        "Aim:\n",
        "\n",
        "A) Write a program to double a given number and add two numbers using lambda()?"
      ],
      "metadata": {
        "id": "NOc47awClx9H"
      }
    },
    {
      "cell_type": "code",
      "source": [
        "def myfunc(n):\n",
        "    def f(a):\n",
        "        return a * n\n",
        "\n",
        "    return f\n",
        "\n",
        "mydoubler = myfunc(2)\n",
        "mytripler = myfunc(3)\n",
        "\n",
        "print(mydoubler(11))\n",
        "print(mytripler(11))"
      ],
      "metadata": {
        "colab": {
          "base_uri": "https://localhost:8080/"
        },
        "id": "NoBIhsuSmFOl",
        "outputId": "23231e43-b56b-4ea6-8112-5207b75d57ec"
      },
      "execution_count": null,
      "outputs": [
        {
          "output_type": "stream",
          "name": "stdout",
          "text": [
            "22\n",
            "33\n"
          ]
        }
      ]
    },
    {
      "cell_type": "markdown",
      "source": [
        "B) Write a program for filter() to filter only even numbers from a given list"
      ],
      "metadata": {
        "id": "uPrhwJTTqqSV"
      }
    },
    {
      "cell_type": "code",
      "source": [
        "# Python code to filter even values from a list\n",
        "\n",
        "# Initialisation of list\n",
        "lis = [1, 2, 3, 4, 5]\n",
        "\n",
        "# Output list initialisation\n",
        "out = []\n",
        "\n",
        "for num in lis:\n",
        "\n",
        "\t# checking condition\n",
        "\tif num % 2 == 0:\n",
        "\t\tout.append(num)\n",
        "\n",
        "\n",
        "# printing output\n",
        "print(out)"
      ],
      "metadata": {
        "colab": {
          "base_uri": "https://localhost:8080/"
        },
        "id": "9v3h2atfqxKx",
        "outputId": "acd35993-c441-416f-e379-3882b3702b09"
      },
      "execution_count": null,
      "outputs": [
        {
          "output_type": "stream",
          "name": "stdout",
          "text": [
            "[2, 4]\n"
          ]
        }
      ]
    },
    {
      "cell_type": "markdown",
      "source": [
        "C) Write a program for map() function to double all the items in the list?"
      ],
      "metadata": {
        "id": "vSRXpNUlrFRP"
      }
    },
    {
      "cell_type": "code",
      "source": [
        "s = ['1', '2', '3', '4']\n",
        "res = map(int, s)\n",
        "print(list(res))"
      ],
      "metadata": {
        "colab": {
          "base_uri": "https://localhost:8080/"
        },
        "id": "Gk2qtjMYrJpl",
        "outputId": "0f7e2d0c-58b4-4634-c2eb-07405487ed86"
      },
      "execution_count": null,
      "outputs": [
        {
          "output_type": "stream",
          "name": "stdout",
          "text": [
            "[1, 2, 3, 4]\n"
          ]
        }
      ]
    },
    {
      "cell_type": "markdown",
      "source": [
        "D) Write a program to find sum of the numbers for the elements of the list by using reduce()?"
      ],
      "metadata": {
        "id": "xcqtq_5zrj97"
      }
    },
    {
      "cell_type": "code",
      "source": [
        "# python code to demonstrate working of reduce()\n",
        "\n",
        "# importing functools for reduce()\n",
        "import functools\n",
        "\n",
        "# initializing list\n",
        "lis = [1, 3, 5, 6, 2]\n",
        "\n",
        "# using reduce to compute sum of list\n",
        "print(\"The sum of the list elements is : \", end=\"\")\n",
        "print(functools.reduce(lambda a, b: a+b, lis))\n",
        "\n",
        "# using reduce to compute maximum element from list\n",
        "print(\"The maximum element of the list is : \", end=\"\")\n",
        "print(functools.reduce(lambda a, b: a if a > b else b, lis))"
      ],
      "metadata": {
        "colab": {
          "base_uri": "https://localhost:8080/"
        },
        "id": "rSOG4aL8rolg",
        "outputId": "2c9df31a-20ae-4ee6-9ef1-f39530f72e33"
      },
      "execution_count": null,
      "outputs": [
        {
          "output_type": "stream",
          "name": "stdout",
          "text": [
            "The sum of the list elements is : 17\n",
            "The maximum element of the list is : 6\n"
          ]
        }
      ]
    },
    {
      "cell_type": "markdown",
      "source": [
        "PROGRAM-5:\n",
        "\n",
        "Aim:\n",
        "\n",
        "A) Demonstrate a python code to implement abnormal termination?"
      ],
      "metadata": {
        "id": "Kpoj2BUtr85z"
      }
    },
    {
      "cell_type": "code",
      "source": [
        "a=5\n",
        "b=0\n",
        "print(a/b)\n",
        "print(\"bye\")"
      ],
      "metadata": {
        "id": "mkVj6H2oskGP"
      },
      "execution_count": null,
      "outputs": []
    },
    {
      "cell_type": "markdown",
      "source": [
        "B) Demonstrate a python code to print try, except and finally block statements"
      ],
      "metadata": {
        "id": "kbv5DQnzsy9H"
      }
    },
    {
      "cell_type": "code",
      "source": [
        "a = 5\n",
        "b = 0\n",
        "print(a/b)"
      ],
      "metadata": {
        "id": "7Zl_cEHZuLAO"
      },
      "execution_count": null,
      "outputs": []
    },
    {
      "cell_type": "markdown",
      "source": [
        "C) Write a python program to open and write “hello world” into a file?"
      ],
      "metadata": {
        "id": "lVKvhtdcs0O7"
      }
    },
    {
      "cell_type": "code",
      "source": [
        "# This program prints Hello, world!\n",
        "\n",
        "print('Hello, world!')"
      ],
      "metadata": {
        "colab": {
          "base_uri": "https://localhost:8080/"
        },
        "id": "V6X45hZitJh_",
        "outputId": "511e8fdc-3ec8-40a1-a0e2-fa290a1fdaa5"
      },
      "execution_count": null,
      "outputs": [
        {
          "output_type": "stream",
          "name": "stdout",
          "text": [
            "Hello, world!\n"
          ]
        }
      ]
    },
    {
      "cell_type": "markdown",
      "source": [
        "D) Write a python program to write the content “hi python programming” for the existing file."
      ],
      "metadata": {
        "id": "wXRg2oW6tC9b"
      }
    },
    {
      "cell_type": "code",
      "source": [],
      "metadata": {
        "id": "y1BD5zvluupv"
      },
      "execution_count": null,
      "outputs": []
    },
    {
      "cell_type": "markdown",
      "source": [
        "PROGRAM-6:\n",
        "\n",
        "Aim:\n",
        "\n",
        "A) Write a python program to get python version.\n"
      ],
      "metadata": {
        "id": "XfsgjnKmuvRn"
      }
    },
    {
      "cell_type": "code",
      "source": [
        "import sys\n",
        "print(\"System version is:\")\n",
        "print(sys.version)\n",
        "print(\"Version Information is:\")\n",
        "print(sys.version_info)"
      ],
      "metadata": {
        "colab": {
          "base_uri": "https://localhost:8080/"
        },
        "id": "jQcjnJ5Xu0bB",
        "outputId": "388a0465-13ab-4a7a-8cf4-4d7a2e642f8f"
      },
      "execution_count": null,
      "outputs": [
        {
          "output_type": "stream",
          "name": "stdout",
          "text": [
            "System version is:\n",
            "3.10.12 (main, Nov  6 2024, 20:22:13) [GCC 11.4.0]\n",
            "Version Information is:\n",
            "sys.version_info(major=3, minor=10, micro=12, releaselevel='final', serial=0)\n"
          ]
        }
      ]
    },
    {
      "cell_type": "markdown",
      "source": [
        "**Exercise Questions:**\n",
        "\n",
        "B) Write a python program to open a file and check what are the access permissions acquired by\n",
        "that file using os module?"
      ],
      "metadata": {
        "id": "bsd5mG2zu_u7"
      }
    },
    {
      "cell_type": "code",
      "source": [
        "# import os Library\n",
        "import os\n",
        "\n",
        "# Check access with os.F_OK\n",
        "path1 = os.access(\"text.txt\", os.F_OK)\n",
        "print(\"Does the path exists:\", path1)\n",
        "\n",
        "# Check access with os.R_OK\n",
        "path2 = os.access(\"text.txt\", os.R_OK)\n",
        "print(\"Access to read the file:\", path2)\n",
        "\n",
        "# Check access with os.W_OK\n",
        "path3 = os.access(\"text.txt\", os.W_OK)\n",
        "print(\"Access to write to file:\", path3)\n",
        "\n",
        "# Check access with os.X_OK\n",
        "path4 = os.access(\"text.txt\", os.X_OK)\n",
        "print(\"Can path be executed:\", path4)"
      ],
      "metadata": {
        "colab": {
          "base_uri": "https://localhost:8080/"
        },
        "id": "tC3KaxS-vRg6",
        "outputId": "c8016d9d-3b97-46dc-8fd1-8f62eef59442"
      },
      "execution_count": null,
      "outputs": [
        {
          "output_type": "stream",
          "name": "stdout",
          "text": [
            "Does the path exists: False\n",
            "Access to read the file: False\n",
            "Access to write to file: False\n",
            "Can path be executed: False\n"
          ]
        }
      ]
    },
    {
      "cell_type": "markdown",
      "source": [
        "C) Write a python program to display a particular month of a year using calendar module."
      ],
      "metadata": {
        "id": "3OIj5S7evMAS"
      }
    },
    {
      "cell_type": "code",
      "source": [
        "# Program to display calendar of the given month and year\n",
        "\n",
        "# importing calendar module\n",
        "import calendar\n",
        "\n",
        "yy = 2024  # year\n",
        "mm = 11    # month\n",
        "\n",
        "# To take month and year input from the user\n",
        "# yy = int(input(\"Enter year: \"))\n",
        "# mm = int(input(\"Enter month: \"))\n",
        "\n",
        "# display the calendar\n",
        "print(calendar.month(yy, mm))\n"
      ],
      "metadata": {
        "colab": {
          "base_uri": "https://localhost:8080/"
        },
        "id": "Xi2gkE37vSwT",
        "outputId": "b98e0ab9-f4bd-4b64-818a-155de67e173e"
      },
      "execution_count": null,
      "outputs": [
        {
          "output_type": "stream",
          "name": "stdout",
          "text": [
            "   November 2024\n",
            "Mo Tu We Th Fr Sa Su\n",
            "             1  2  3\n",
            " 4  5  6  7  8  9 10\n",
            "11 12 13 14 15 16 17\n",
            "18 19 20 21 22 23 24\n",
            "25 26 27 28 29 30\n",
            "\n"
          ]
        }
      ]
    },
    {
      "cell_type": "markdown",
      "source": [
        "D) Write a python program to print all the months of given year."
      ],
      "metadata": {
        "id": "fLiATpsXvTdk"
      }
    },
    {
      "cell_type": "code",
      "source": [
        "# Python program to print calendar for given year\n",
        "\n",
        "# importing calendar library\n",
        "import calendar\n",
        "\n",
        "def printcalendar(year):\n",
        "\n",
        "\t# printing calendar\n",
        "\tprint(calendar.calendar(year))\n",
        "\n",
        "# driver program to test above function\n",
        "year = 2024\n",
        "printcalendar(year)\n"
      ],
      "metadata": {
        "colab": {
          "base_uri": "https://localhost:8080/"
        },
        "id": "sIpP8TJTvUh3",
        "outputId": "48fe6177-d4a9-4373-d196-1b93be506c54"
      },
      "execution_count": 4,
      "outputs": [
        {
          "output_type": "stream",
          "name": "stdout",
          "text": [
            "                                  2024\n",
            "\n",
            "      January                   February                   March\n",
            "Mo Tu We Th Fr Sa Su      Mo Tu We Th Fr Sa Su      Mo Tu We Th Fr Sa Su\n",
            " 1  2  3  4  5  6  7                1  2  3  4                   1  2  3\n",
            " 8  9 10 11 12 13 14       5  6  7  8  9 10 11       4  5  6  7  8  9 10\n",
            "15 16 17 18 19 20 21      12 13 14 15 16 17 18      11 12 13 14 15 16 17\n",
            "22 23 24 25 26 27 28      19 20 21 22 23 24 25      18 19 20 21 22 23 24\n",
            "29 30 31                  26 27 28 29               25 26 27 28 29 30 31\n",
            "\n",
            "       April                      May                       June\n",
            "Mo Tu We Th Fr Sa Su      Mo Tu We Th Fr Sa Su      Mo Tu We Th Fr Sa Su\n",
            " 1  2  3  4  5  6  7             1  2  3  4  5                      1  2\n",
            " 8  9 10 11 12 13 14       6  7  8  9 10 11 12       3  4  5  6  7  8  9\n",
            "15 16 17 18 19 20 21      13 14 15 16 17 18 19      10 11 12 13 14 15 16\n",
            "22 23 24 25 26 27 28      20 21 22 23 24 25 26      17 18 19 20 21 22 23\n",
            "29 30                     27 28 29 30 31            24 25 26 27 28 29 30\n",
            "\n",
            "        July                     August                  September\n",
            "Mo Tu We Th Fr Sa Su      Mo Tu We Th Fr Sa Su      Mo Tu We Th Fr Sa Su\n",
            " 1  2  3  4  5  6  7                1  2  3  4                         1\n",
            " 8  9 10 11 12 13 14       5  6  7  8  9 10 11       2  3  4  5  6  7  8\n",
            "15 16 17 18 19 20 21      12 13 14 15 16 17 18       9 10 11 12 13 14 15\n",
            "22 23 24 25 26 27 28      19 20 21 22 23 24 25      16 17 18 19 20 21 22\n",
            "29 30 31                  26 27 28 29 30 31         23 24 25 26 27 28 29\n",
            "                                                    30\n",
            "\n",
            "      October                   November                  December\n",
            "Mo Tu We Th Fr Sa Su      Mo Tu We Th Fr Sa Su      Mo Tu We Th Fr Sa Su\n",
            "    1  2  3  4  5  6                   1  2  3                         1\n",
            " 7  8  9 10 11 12 13       4  5  6  7  8  9 10       2  3  4  5  6  7  8\n",
            "14 15 16 17 18 19 20      11 12 13 14 15 16 17       9 10 11 12 13 14 15\n",
            "21 22 23 24 25 26 27      18 19 20 21 22 23 24      16 17 18 19 20 21 22\n",
            "28 29 30 31               25 26 27 28 29 30         23 24 25 26 27 28 29\n",
            "                                                    30 31\n",
            "\n"
          ]
        }
      ]
    },
    {
      "cell_type": "markdown",
      "source": [
        "PROGRAM-7:\n",
        "\n",
        "Aim:\n",
        "\n",
        "A) Write a python program to print date, time for today and now"
      ],
      "metadata": {
        "id": "XWTiVO6Uw-dV"
      }
    },
    {
      "cell_type": "code",
      "source": [
        "import datetime\n",
        "a=datetime.datetime.today()\n",
        "b=datetime.datetime.now()\n",
        "print(a)\n",
        "print(b)"
      ],
      "metadata": {
        "colab": {
          "base_uri": "https://localhost:8080/"
        },
        "id": "2ykUVPDTxMkh",
        "outputId": "89526ff4-285a-443b-b6e5-49243aac99d3"
      },
      "execution_count": 13,
      "outputs": [
        {
          "output_type": "stream",
          "name": "stdout",
          "text": [
            "2024-11-26 15:48:51.794020\n",
            "2024-11-26 15:48:51.794081\n"
          ]
        }
      ]
    },
    {
      "cell_type": "markdown",
      "source": [
        "B) Write a python program to add some days to your present date and print the date added."
      ],
      "metadata": {
        "id": "f-m53RWOxS33"
      }
    },
    {
      "cell_type": "code",
      "source": [
        "from datetime import datetime\n",
        "from datetime import timedelta\n",
        "\n",
        "# taking input as the date\n",
        "Begindatestring = \"2024-11-11\"\n",
        "\n",
        "# carry out conversion between string\n",
        "# to datetime object\n",
        "Begindate = datetime.strptime(Begindatestring, \"%Y-%m-%d\")\n",
        "\n",
        "# print begin date\n",
        "print(\"Beginning date\")\n",
        "print(Begindate)\n",
        "\n",
        "# calculating end date by adding 10 days\n",
        "Enddate = Begindate + timedelta(days=10)\n",
        "\n",
        "# printing end date\n",
        "print(\"Ending date\")\n",
        "print(Enddate)"
      ],
      "metadata": {
        "colab": {
          "base_uri": "https://localhost:8080/"
        },
        "id": "lc61q_uwxXUw",
        "outputId": "62d7b582-f61d-4685-ef04-17575612bb44"
      },
      "execution_count": null,
      "outputs": [
        {
          "output_type": "stream",
          "name": "stdout",
          "text": [
            "Beginning date\n",
            "2024-11-11 00:00:00\n",
            "Ending date\n",
            "2024-11-21 00:00:00\n"
          ]
        }
      ]
    },
    {
      "cell_type": "markdown",
      "source": [
        "C) Write a python program to print date, time using date and time functions"
      ],
      "metadata": {
        "id": "l3r8sGj9xTkp"
      }
    },
    {
      "cell_type": "code",
      "source": [
        "# Getting current date and time using now().\n",
        "\n",
        "# importing datetime module for now()\n",
        "import datetime\n",
        "\n",
        "# using now() to get current time\n",
        "current_time = datetime.datetime.now()\n",
        "\n",
        "# Printing value of now.\n",
        "print(\"It's Time now at greenwich meridian is:\", current_time)"
      ],
      "metadata": {
        "id": "zQU7DAfSxYWE",
        "colab": {
          "base_uri": "https://localhost:8080/"
        },
        "outputId": "cce71368-b608-4df4-af50-d2eafab2176b"
      },
      "execution_count": 6,
      "outputs": [
        {
          "output_type": "stream",
          "name": "stdout",
          "text": [
            "It's Time now at greenwich meridian is: 2024-11-26 15:34:45.255103\n"
          ]
        }
      ]
    },
    {
      "cell_type": "markdown",
      "source": [
        "D) Write a python program which accepts the radius of a circle from user and computes the area\n",
        "(use math module)."
      ],
      "metadata": {
        "id": "Kimx-DQKxWAY"
      }
    },
    {
      "cell_type": "code",
      "source": [
        "# Python program to find Area of a circle\n",
        "\n",
        "#Area = pi * r2 where r is radius of circle       ...(Formula)\n",
        "def findArea(r):\n",
        "    PI = 3.142\n",
        "    return PI * (r*r);\n",
        "\n",
        "# Driver method\n",
        "print(\"Area is %.6f\" % findArea(5));"
      ],
      "metadata": {
        "id": "bfkt7pwnxZRg",
        "colab": {
          "base_uri": "https://localhost:8080/"
        },
        "outputId": "312df5c3-6f02-4402-e4f5-a9f3bbfc4982"
      },
      "execution_count": 11,
      "outputs": [
        {
          "output_type": "stream",
          "name": "stdout",
          "text": [
            "Area is 78.550000\n"
          ]
        }
      ]
    },
    {
      "cell_type": "markdown",
      "source": [
        "PROGRAM-8:\n",
        "\n",
        "Aim:\n",
        "\n",
        "A) Write a python program to create a package (college),sub-package (alldept),modules(it,cse)\n",
        "and create admin and cabin function to module?"
      ],
      "metadata": {
        "id": "Jz3H2jqOHU2y"
      }
    },
    {
      "cell_type": "code",
      "source": [
        "def admin():\n",
        " print(\"hi\")\n",
        "def cabin():\n",
        " print(\"hello\")"
      ],
      "metadata": {
        "id": "EC-hXXQVHndU"
      },
      "execution_count": 10,
      "outputs": []
    },
    {
      "cell_type": "markdown",
      "source": [
        "**Exercise Questions:**\n",
        "\n",
        "B) Write a python program to create a package (Engg), sub-package( years),modules (sem) and create staff and student function to module?"
      ],
      "metadata": {
        "id": "3kEsBsQLJCwf"
      }
    },
    {
      "cell_type": "code",
      "source": [],
      "metadata": {
        "id": "zf9U4kStJDY4"
      },
      "execution_count": null,
      "outputs": []
    },
    {
      "cell_type": "markdown",
      "source": [
        "PROGRAM-9:\n",
        "\n",
        "Aim:\n",
        "\n",
        "A) Write a python Program to display welcome to MRCET by using classes and objects."
      ],
      "metadata": {
        "id": "uXCKydpSc74i"
      }
    },
    {
      "cell_type": "code",
      "source": [
        "#  instantiating a class\n",
        "class Dog:\n",
        "\n",
        "    # A simple class\n",
        "    # attribute\n",
        "    attr1 = \"mammal\"\n",
        "    attr2 = \"dog\"\n",
        "\n",
        "    # A sample method\n",
        "    def fun(self):\n",
        "        print(\"I'm a\", self.attr1)\n",
        "        print(\"I'm a\", self.attr2)\n",
        "\n",
        "\n",
        "# Driver code\n",
        "# Object instantiation\n",
        "Rodger = Dog()\n",
        "\n",
        "# Accessing class attributes\n",
        "# and method through objects\n",
        "print(Rodger.attr1)\n",
        "Rodger.fun()"
      ],
      "metadata": {
        "colab": {
          "base_uri": "https://localhost:8080/"
        },
        "id": "TT4yXxQidF_H",
        "outputId": "d33eca14-b964-4177-a1e4-dc6cd18f6acf"
      },
      "execution_count": 3,
      "outputs": [
        {
          "output_type": "stream",
          "name": "stdout",
          "text": [
            "mammal\n",
            "I'm a mammal\n",
            "I'm a dog\n"
          ]
        }
      ]
    },
    {
      "cell_type": "markdown",
      "source": [
        "Exercise Questions:\n",
        "\n",
        "B) Write a python Program to call data member and function using classes and objects."
      ],
      "metadata": {
        "id": "TPCCKrB7dwQ7"
      }
    },
    {
      "cell_type": "code",
      "source": [
        "# Sample class with init method\n",
        "class Person:\n",
        "\n",
        "    # init method or constructor\n",
        "    def __init__(self, name):\n",
        "        self.name = name\n",
        "\n",
        "    # Sample Method\n",
        "    def say_hi(self):\n",
        "        print('Hello, my name is', self.name)\n",
        "\n",
        "\n",
        "p = Person('Yashoda')\n",
        "p.say_hi()"
      ],
      "metadata": {
        "colab": {
          "base_uri": "https://localhost:8080/"
        },
        "id": "J2agTP9bebe7",
        "outputId": "e929fcc9-feb3-47d9-ec8b-a6d4a56c71cc"
      },
      "execution_count": 5,
      "outputs": [
        {
          "output_type": "stream",
          "name": "stdout",
          "text": [
            "Hello, my name is Yashoda\n"
          ]
        }
      ]
    },
    {
      "cell_type": "markdown",
      "source": [
        "C) Write a program to find sum of two numbers using class and methods"
      ],
      "metadata": {
        "id": "YtLt3IxtexrU"
      }
    },
    {
      "cell_type": "code",
      "source": [
        "# The following code displays sum of integers and floats\n",
        "print(\"The addition of integers 2 and 6 is: \",2+6)\n",
        "print(\"The addition of floats 5.6 + 7.2 is: \",5.6+7.2)"
      ],
      "metadata": {
        "colab": {
          "base_uri": "https://localhost:8080/"
        },
        "id": "Q9gY9HUWe22I",
        "outputId": "dcc3dde2-5976-40dc-c0f4-cfb77e577d14"
      },
      "execution_count": 8,
      "outputs": [
        {
          "output_type": "stream",
          "name": "stdout",
          "text": [
            "The addition of integers 2 and 6 is:  8\n",
            "The addition of floats 5.6 + 7.2 is:  12.8\n"
          ]
        }
      ]
    },
    {
      "cell_type": "markdown",
      "source": [
        "D) Write a program to read 3 subject marks and display pass or failed using class and object.\n"
      ],
      "metadata": {
        "id": "TpbH7hTkfngi"
      }
    },
    {
      "cell_type": "code",
      "source": [
        "# Definig a class student, which contain\n",
        "# name and Roll number and marks of the student\n",
        "\n",
        "class Student(object):\n",
        "    def __init__(self, name, roll, marks):\n",
        "        self.name = name\n",
        "        self.roll = roll\n",
        "        self.marks = marks\n",
        "\n",
        "    def getmarks(self):\n",
        "        return self.marks\n",
        "\n",
        "    def getroll(self):\n",
        "        return self.roll\n",
        "\n",
        "    def __str__(self):\n",
        "        return self.name + ' : ' + str(self.getroll()) +'  ::'+  str(self.getmarks())\n",
        "\n",
        "# Defining a function for building a Record\n",
        "# which generates list of all the students\n",
        "def Markss(rec, name, roll, marks):\n",
        "    rec.append(Student(name, roll, marks))\n",
        "    return rec\n",
        "\n",
        "# Main Code\n",
        "Record = []\n",
        "x = 'y'\n",
        "while x == 'y':\n",
        "    name = input('Enter the name of the student: ')\n",
        "    height = input('Enter the roll number: ')\n",
        "    roll = input('Marks: ')\n",
        "    Record = Markss(Record, name, roll, height)\n",
        "    x = input('another student? y/n: ')\n",
        "\n",
        "# Printing the list of student\n",
        "n = 1\n",
        "for el in Record:\n",
        "    print(n,'. ', el)\n",
        "    n = n + 1"
      ],
      "metadata": {
        "colab": {
          "base_uri": "https://localhost:8080/"
        },
        "id": "XMDSH00hfr8Y",
        "outputId": "14654d4a-9831-49b8-fab7-925a6e1ed65b"
      },
      "execution_count": 13,
      "outputs": [
        {
          "output_type": "stream",
          "name": "stdout",
          "text": [
            "Enter the name of the student: Prem\n",
            "Enter the roll number: 101\n",
            "Marks: 200\n",
            "another student? y/n: y\n",
            "Enter the name of the student: Shivangi\n",
            "Enter the roll number: 102\n",
            "Marks: 250\n",
            "another student? y/n: y\n",
            "Enter the name of the student: rahul\n",
            "Enter the roll number: 103\n",
            "Marks: 22\n",
            "another student? y/n: n\n",
            "1 .  Prem : 200  ::101\n",
            "2 .  Shivangi : 250  ::102\n",
            "3 .  rahul : 22  ::103\n"
          ]
        }
      ]
    },
    {
      "cell_type": "markdown",
      "source": [
        "PROGRAM-10:\n",
        "\n",
        "Aim:\n",
        "\n",
        "A) Using a numpy module create an array and check the following:\n",
        "1. Type of array      2. Axes of array\n",
        "3. Shape of array     4. Type of elements in array"
      ],
      "metadata": {
        "id": "ME5km_UhiBXJ"
      }
    },
    {
      "cell_type": "code",
      "source": [
        "import numpy as np\n",
        "arr=np.array([[1,2,3],[4,2,5]])\n",
        "print(\"Array is of type:\",type(arr))\n",
        "print(\"no.of dimensions:\",arr.ndim)\n",
        "print(\"Shape of array:\",arr.shape)\n",
        "print(\"Size of array:\",arr.size)\n",
        "print(\"Array stores elements of type:\",arr.dtype)\n"
      ],
      "metadata": {
        "colab": {
          "base_uri": "https://localhost:8080/"
        },
        "id": "EPThoFvPiTEa",
        "outputId": "7603f455-5e6c-431c-f99b-8f6a3b59fbb7"
      },
      "execution_count": 14,
      "outputs": [
        {
          "output_type": "stream",
          "name": "stdout",
          "text": [
            "Array is of type: <class 'numpy.ndarray'>\n",
            "no.of dimensions: 2\n",
            "Shape of array: (2, 3)\n",
            "Size of array: 6\n",
            "Array stores elements of type: int64\n"
          ]
        }
      ]
    },
    {
      "cell_type": "markdown",
      "source": [
        "**Exercise Questions:**\n",
        "\n",
        "B) Using a numpy module create array and check the following:\n",
        "1. List with type float 2. 3*4 array with all zeros\n",
        "3. From tuple 4. Random values\n"
      ],
      "metadata": {
        "id": "FKoHw066ic1H"
      }
    },
    {
      "cell_type": "code",
      "source": [
        "#Syntax: numpy.zeros(shape, dtype=float, order=’C’)      ...(Formula)\n",
        "\n",
        "import numpy as np\n",
        "arr = np.zeros(9)\n",
        "print(arr)\n",
        "\n",
        "#Creating a 2-dimensional array with zeros using numpy.zeros()\n",
        "\n",
        "import numpy as np\n",
        "\n",
        "# create a 2-D array of 2 row 3 column\n",
        "arr = np.zeros((2, 3))\n",
        "print(arr)\n",
        "\n",
        "#Multi-dimensional array with zeros using numpy.zeros()\n",
        "\n",
        "import numpy as np\n",
        "\n",
        "# creating 3D array\n",
        "arr = np.zeros((4, 2, 3))\n",
        "\n",
        "print(arr)\n",
        "\n",
        "#NumPy zeros array with an integer data type\n",
        "\n",
        "import numpy as np\n",
        "\n",
        "# Creating array of 2 rows 3 column\n",
        "# as Datatype integer\n",
        "arr = np.zeros((2, 3), dtype=int)\n",
        "print(arr)\n",
        "\n",
        "#NumPy Array with Tuple Data Type and Zeroes\n",
        "\n",
        "import numpy as np\n",
        "\n",
        "# Specifying array as a tuple, and\n",
        "# Specify their data types.\n",
        "arr = np.zeros((2, 2), dtype=[('x', 'int'),\n",
        "\t\t\t\t\t\t\t('y', 'float')])\n",
        "print(arr)\n",
        "print(arr.dtype)\n",
        "\n"
      ],
      "metadata": {
        "colab": {
          "base_uri": "https://localhost:8080/"
        },
        "id": "1t8fYtfRiuVX",
        "outputId": "857e0fa8-d8c5-4bde-f4b8-40b5a896b295"
      },
      "execution_count": 16,
      "outputs": [
        {
          "output_type": "stream",
          "name": "stdout",
          "text": [
            "[0. 0. 0. 0. 0. 0. 0. 0. 0.]\n",
            "[[0. 0. 0.]\n",
            " [0. 0. 0.]]\n",
            "[[[0. 0. 0.]\n",
            "  [0. 0. 0.]]\n",
            "\n",
            " [[0. 0. 0.]\n",
            "  [0. 0. 0.]]\n",
            "\n",
            " [[0. 0. 0.]\n",
            "  [0. 0. 0.]]\n",
            "\n",
            " [[0. 0. 0.]\n",
            "  [0. 0. 0.]]]\n",
            "[[0 0 0]\n",
            " [0 0 0]]\n",
            "[[(0, 0.) (0, 0.)]\n",
            " [(0, 0.) (0, 0.)]]\n",
            "[('x', '<i8'), ('y', '<f8')]\n"
          ]
        }
      ]
    },
    {
      "cell_type": "markdown",
      "source": [
        "C) Using a numpy module create array and check the following:\n",
        "1. Reshape 3X4 array to 2X2X3 array 2. Sequence of integers from 0 to 30 with steps of 5\n",
        "3. Flatten array 4. Constant value array of complex type"
      ],
      "metadata": {
        "id": "gt0hd5Efiu6D"
      }
    },
    {
      "cell_type": "code",
      "source": [
        "import numpy as np\n",
        "\n",
        "arr = np.array([1, 2, 3, 4, 5, 6, 7, 8, 9, 10, 11, 12])\n",
        "\n",
        "newarr = arr.reshape(4, 3)\n",
        "\n",
        "print(newarr)"
      ],
      "metadata": {
        "colab": {
          "base_uri": "https://localhost:8080/"
        },
        "id": "ksUDZIg2iyBC",
        "outputId": "3769a6a5-0ebf-412f-ee0e-d8037d72e965"
      },
      "execution_count": 17,
      "outputs": [
        {
          "output_type": "stream",
          "name": "stdout",
          "text": [
            "[[ 1  2  3]\n",
            " [ 4  5  6]\n",
            " [ 7  8  9]\n",
            " [10 11 12]]\n"
          ]
        }
      ]
    },
    {
      "cell_type": "markdown",
      "source": [
        "PROGRAM-11:\n",
        "\n",
        "Aim:\n",
        "\n",
        "A) Write a python program to concatenate the dataframes with two different objects."
      ],
      "metadata": {
        "id": "9NWcxac3lT_z"
      }
    },
    {
      "cell_type": "code",
      "source": [
        "import pandas as pd\n",
        "one=pd.DataFrame({'Name':['yashu','suman'],\n",
        " 'age':[19,20]},\n",
        " index=[1,2])\n",
        "two=pd.DataFrame({'Name':['suneeta','naman'],\n",
        " 'age':[20,21]},\n",
        " index=[3,4])\n",
        "print(pd.concat([one,two]))"
      ],
      "metadata": {
        "colab": {
          "base_uri": "https://localhost:8080/"
        },
        "id": "ETfOaT05loEf",
        "outputId": "2b73a062-9f0f-4b24-865f-171b5b11c39d"
      },
      "execution_count": 19,
      "outputs": [
        {
          "output_type": "stream",
          "name": "stdout",
          "text": [
            "      Name  age\n",
            "1    yashu   19\n",
            "2    suman   20\n",
            "3  suneeta   20\n",
            "4    naman   21\n"
          ]
        }
      ]
    },
    {
      "cell_type": "markdown",
      "source": [
        "**Exercise Questions:**\n",
        "\n",
        "B) Write a python code to read a csv file using pandas module and print the first and last five lines of a file."
      ],
      "metadata": {
        "id": "V5fdz9fVl1yC"
      }
    },
    {
      "cell_type": "code",
      "source": [
        "import pandas as pd\n",
        "pd.set_option('display.max_rows', 50)\n",
        "pd.set_option('display.max_columns', 50)\n",
        "diamonds = pd.read_csv('https://raw.githubusercontent.com/mwaskom/seaborn-data/master/diamonds.csv')\n",
        "print(\"First 5 rows:\")\n",
        "print(diamonds.head())\n"
      ],
      "metadata": {
        "colab": {
          "base_uri": "https://localhost:8080/"
        },
        "id": "Zb9zWCZKntQA",
        "outputId": "55a1c64f-1127-486d-cc1f-a167aee69a70"
      },
      "execution_count": 22,
      "outputs": [
        {
          "output_type": "stream",
          "name": "stdout",
          "text": [
            "First 5 rows:\n",
            "   carat      cut color clarity  depth  table  price     x     y     z\n",
            "0   0.23    Ideal     E     SI2   61.5   55.0    326  3.95  3.98  2.43\n",
            "1   0.21  Premium     E     SI1   59.8   61.0    326  3.89  3.84  2.31\n",
            "2   0.23     Good     E     VS1   56.9   65.0    327  4.05  4.07  2.31\n",
            "3   0.29  Premium     I     VS2   62.4   58.0    334  4.20  4.23  2.63\n",
            "4   0.31     Good     J     SI2   63.3   58.0    335  4.34  4.35  2.75\n"
          ]
        }
      ]
    },
    {
      "cell_type": "markdown",
      "source": [
        "**PROGRAM-12:**\n",
        "\n",
        "Aim:\n",
        "\n",
        "A) Write a python code to set background color and pic and draw a circle using turtle module"
      ],
      "metadata": {
        "id": "NTN-WQSZoQQx"
      }
    },
    {
      "cell_type": "code",
      "source": [
        "import turtle\n",
        "t=turtle.Turtle()\n",
        "t.circle(50)\n",
        "s=turtle.Screen()\n",
        "s.bgcolor(\"pink\")\n",
        "s.bgpic(\"pic.gif\")"
      ],
      "metadata": {
        "id": "OxLwtjkYofZN"
      },
      "execution_count": null,
      "outputs": []
    },
    {
      "cell_type": "markdown",
      "source": [
        "**Exercise Questions:**\n",
        "\n",
        "B) Write a python code to set background color and pic and draw a square and fill the color using turtle module"
      ],
      "metadata": {
        "id": "AEm4ZYwoog03"
      }
    },
    {
      "cell_type": "markdown",
      "source": [
        "C) Write a python code to perform addition using functions with pdb module."
      ],
      "metadata": {
        "id": "KV3hWRv7owYj"
      }
    },
    {
      "cell_type": "code",
      "source": [],
      "metadata": {
        "id": "f6XKorM6tY59"
      },
      "execution_count": null,
      "outputs": []
    },
    {
      "cell_type": "code",
      "source": [
        "def f(x):\n",
        "    print('doing important stuff..')\n",
        "    result = g(x) + 2\n",
        "    return result\n",
        "\n",
        "def g(x):\n",
        "    print('some cool stuff going on here, as well')\n",
        "    0 / 0  # oops! a bug\n",
        "    return x + 5"
      ],
      "metadata": {
        "id": "qO5v8Czcrbmz"
      },
      "execution_count": 36,
      "outputs": []
    }
  ]
}